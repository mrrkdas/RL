{
 "cells": [
  {
   "cell_type": "markdown",
   "id": "6848da56-09d9-4a84-80bf-bdcdd511f6fb",
   "metadata": {},
   "source": [
    "# Environment Basics"
   ]
  },
  {
   "cell_type": "code",
   "execution_count": 1,
   "id": "8523ffdf-a150-431c-84e7-0bca704a07b4",
   "metadata": {
    "tags": []
   },
   "outputs": [
    {
     "name": "stdout",
     "output_type": "stream",
     "text": [
      "Collecting gymnasium==0.27.0\n",
      "  Downloading gymnasium-0.27.0-py3-none-any.whl (879 kB)\n",
      "\u001b[2K     \u001b[90m━━━━━━━━━━━━━━━━━━━━━━━━━━━━━━━━━━━━━━\u001b[0m \u001b[32m879.1/879.1 kB\u001b[0m \u001b[31m11.1 MB/s\u001b[0m eta \u001b[36m0:00:00\u001b[0m00:01\u001b[0m00:01\u001b[0m\n",
      "\u001b[?25hRequirement already satisfied: numpy>=1.21.0 in /Users/helloworld/anaconda3/lib/python3.11/site-packages (from gymnasium==0.27.0) (1.24.3)\n",
      "Collecting jax-jumpy>=0.2.0 (from gymnasium==0.27.0)\n",
      "  Downloading jax_jumpy-1.0.0-py3-none-any.whl (20 kB)\n",
      "Requirement already satisfied: cloudpickle>=1.2.0 in /Users/helloworld/anaconda3/lib/python3.11/site-packages (from gymnasium==0.27.0) (2.2.1)\n",
      "Requirement already satisfied: typing-extensions>=4.3.0 in /Users/helloworld/anaconda3/lib/python3.11/site-packages (from gymnasium==0.27.0) (4.7.1)\n",
      "Collecting gymnasium-notices>=0.0.1 (from gymnasium==0.27.0)\n",
      "  Downloading gymnasium_notices-0.0.1-py3-none-any.whl (2.8 kB)\n",
      "Collecting shimmy<1.0,>=0.1.0 (from gymnasium==0.27.0)\n",
      "  Downloading Shimmy-0.2.1-py3-none-any.whl (25 kB)\n",
      "Installing collected packages: gymnasium-notices, jax-jumpy, shimmy, gymnasium\n",
      "Successfully installed gymnasium-0.27.0 gymnasium-notices-0.0.1 jax-jumpy-1.0.0 shimmy-0.2.1\n",
      "Requirement already satisfied: tqdm in /Users/helloworld/anaconda3/lib/python3.11/site-packages (4.65.0)\n"
     ]
    }
   ],
   "source": [
    "!pip install gymnasium==0.27.0\n",
    "!pip install tqdm"
   ]
  },
  {
   "cell_type": "code",
   "execution_count": 4,
   "id": "1d79b052-db1a-420c-b678-da43cf8d040a",
   "metadata": {
    "tags": []
   },
   "outputs": [],
   "source": [
    "import gymnasium as gym\n",
    "import seaborn as sns\n",
    "from tqdm import tqdm"
   ]
  },
  {
   "cell_type": "code",
   "execution_count": 5,
   "id": "2ee0a929-18e8-4721-aa83-7698adac173a",
   "metadata": {
    "tags": []
   },
   "outputs": [],
   "source": [
    "env = gym.make(\"Blackjack-v1\", sab=True, render_mode=\"rgb_array\")"
   ]
  },
  {
   "cell_type": "markdown",
   "id": "36c76e9e-5cda-48bc-81bd-03f1b66849cb",
   "metadata": {},
   "source": [
    "### Observing the environment"
   ]
  },
  {
   "cell_type": "code",
   "execution_count": 6,
   "id": "ebfa46f0-b599-46f1-b3ca-c1c4ed0ce560",
   "metadata": {
    "tags": []
   },
   "outputs": [],
   "source": [
    "# Resets the environment to get the first observation\n",
    "done = False\n",
    "observation, info = env.reset()\n",
    "\n",
    "#observation = (16, 9, False)\n",
    "\n",
    "\n",
    "#observation consistes of tuple with 3 values\n",
    "#1. The players current sum\n",
    "#2. Values of the dealers face-up card\n",
    "#3. Boolean whether the player holds a usable ace (it is usuable if it counts as 11 without busting)"
   ]
  },
  {
   "cell_type": "code",
   "execution_count": 7,
   "id": "1e36fa0b-1c4a-48e5-9b93-30c661407eb0",
   "metadata": {
    "tags": []
   },
   "outputs": [
    {
     "name": "stderr",
     "output_type": "stream",
     "text": [
      "/Users/helloworld/anaconda3/lib/python3.11/site-packages/gymnasium/utils/passive_env_checker.py:249: DeprecationWarning: `np.bool8` is a deprecated alias for `np.bool_`.  (Deprecated NumPy 1.24)\n",
      "  if not isinstance(terminated, (bool, np.bool8)):\n"
     ]
    }
   ],
   "source": [
    "#sample a random action  \n",
    "action = env.action_space.sample()\n",
    "\n",
    "#execute the actions in our environment and receiece info after taking the steo\n",
    "observation, reward, terminated,truncated, info = env.step(action)\n",
    "\n",
    "#observation=(24,10,False)\n",
    "#reward=-1.0\n",
    "#terminated=True\n",
    "#truncated=False\n",
    "#info={}\n"
   ]
  },
  {
   "cell_type": "markdown",
   "id": "4912ac47-28d2-4b42-bac7-e2b912559f90",
   "metadata": {},
   "source": [
    "# Epsilon-Greedy Strategy"
   ]
  },
  {
   "cell_type": "code",
   "execution_count": 15,
   "id": "8012cb56-efe0-4ee0-8d87-14543258c4ea",
   "metadata": {
    "tags": []
   },
   "outputs": [],
   "source": [
    "class BlackjackAgent:\n",
    "    def __init__(\n",
    "        self,\n",
    "        learning_rate:float,\n",
    "        initial_epsilon:float,\n",
    "        epsilon_decay:float,\n",
    "        final_epsilon:float,\n",
    "        discount_factor:float = 0.95\n",
    "    ):\n",
    "        \"\"\"\n",
    "        Initialize a RL agent with empty dictionary of state-action value (q_values), a learning rate and an epsilon\n",
    "\n",
    "        discount_factor: The discount factor for computing the Q-value\n",
    "        \"\"\"\n",
    "        self.q_values = (lambda:np.zeroes(env.action_space.n))\n",
    "        self.lr= learning_rate\n",
    "        self.discount_factor=dicount_factor\n",
    "        self.epsilon = initial_epsilon\n",
    "        self.epsilon_decay = epsilon_decay\n",
    "        \n",
    "        self.training_error = []\n",
    "        \n",
    "    def get_action(self, obs: tuple[int, int, bool]) -> int:\n",
    "        \"\"\"\n",
    "        Returns the best action with probability (1 - epsilon)\n",
    "        otherwise a random action with probability epsilon to ensure exploration.\n",
    "        \"\"\"\n",
    "        if np.random.random() < self.epsilon:\n",
    "            return env.action_space.sample()\n",
    "        else:\n",
    "            return int(np.argmax(self.q_values[obs]))\n",
    "                       \n",
    "    def update(\n",
    "        self,\n",
    "        obs: tuple[int, int, bool],\n",
    "        action: int,\n",
    "        reward: float,\n",
    "        terminated: bool,\n",
    "        next_obs: tuple[int, int, bool],\n",
    "    ):\n",
    "        \"\"\"Updates the Q-value of an action.\"\"\"\n",
    "        future_q_value = (not terminated) * np.max(self.q_values[next_obs])\n",
    "        temporal_difference = (reward + self.discount_factor*future_q_value - self.q_values[obs][action])\n",
    "                       \n",
    "        self.q_values[obs][action] = (self.q_values[obs][action] + self.lr*temporal_difference)\n",
    "        self.training_error.append(temporal_difference)\n",
    "                       \n",
    "    def decay_epsilon(self):\n",
    "        self.epsilon = max(self.final_epsilon, self.epsilon-epsilon_decay)"
   ]
  },
  {
   "cell_type": "code",
   "execution_count": 19,
   "id": "75627bb3-b4dc-4b38-a2f6-a6dfea4dd8c2",
   "metadata": {
    "tags": []
   },
   "outputs": [],
   "source": [
    "class BlackjackAgent:\n",
    "    def __init__(\n",
    "        self,\n",
    "        learning_rate: float,\n",
    "        initial_epsilon: float,\n",
    "        epsilon_decay: float,\n",
    "        final_epsilon: float,\n",
    "        discount_factor: float = 0.95,\n",
    "    ):\n",
    "        \"\"\"Initialize a Reinforcement Learning agent with an empty dictionary\n",
    "        of state-action values (q_values), a learning rate and an epsilon.\n",
    "\n",
    "        Args:\n",
    "            learning_rate: The learning rate\n",
    "            initial_epsilon: The initial epsilon value\n",
    "            epsilon_decay: The decay for epsilon\n",
    "            final_epsilon: The final epsilon value\n",
    "            discount_factor: The discount factor for computing the Q-value\n",
    "        \"\"\"\n",
    "        self.q_values = (lambda: np.zeros(env.action_space.n))\n",
    "\n",
    "        self.lr = learning_rate\n",
    "        self.discount_factor = discount_factor\n",
    "\n",
    "        self.epsilon = initial_epsilon\n",
    "        self.epsilon_decay = epsilon_decay\n",
    "        self.final_epsilon = final_epsilon\n",
    "\n",
    "        self.training_error = []\n",
    "\n",
    "    def get_action(self, obs: tuple[int, int, bool]) -> int:\n",
    "        \"\"\"\n",
    "        Returns the best action with probability (1 - epsilon)\n",
    "        otherwise a random action with probability epsilon to ensure exploration.\n",
    "        \"\"\"\n",
    "        # with probability epsilon return a random action to explore the environment\n",
    "        if np.random.random() < self.epsilon:\n",
    "            return env.action_space.sample()\n",
    "\n",
    "        # with probability (1 - epsilon) act greedily (exploit)\n",
    "        else:\n",
    "            return int(np.argmax(self.q_values[obs]))\n",
    "\n",
    "    def update(\n",
    "        self,\n",
    "        obs: tuple[int, int, bool],\n",
    "        action: int,\n",
    "        reward: float,\n",
    "        terminated: bool,\n",
    "        next_obs: tuple[int, int, bool],\n",
    "    ):\n",
    "        \"\"\"Updates the Q-value of an action.\"\"\"\n",
    "        future_q_value = (not terminated) * np.max(self.q_values[next_obs])\n",
    "        temporal_difference = (\n",
    "            reward + self.discount_factor * future_q_value - self.q_values[obs][action]\n",
    "        )\n",
    "\n",
    "        self.q_values[obs][action] = (\n",
    "            self.q_values[obs][action] + self.lr * temporal_difference\n",
    "        )\n",
    "        self.training_error.append(temporal_difference)\n",
    "\n",
    "    def decay_epsilon(self):\n",
    "        self.epsilon = max(self.final_epsilon, self.epsilon - epsilon_decay)"
   ]
  },
  {
   "cell_type": "code",
   "execution_count": 20,
   "id": "207086bc-ce9e-46fb-9182-8f05d5f1fcca",
   "metadata": {
    "tags": []
   },
   "outputs": [],
   "source": [
    "# hyperparameters\n",
    "learning_rate = 0.01\n",
    "n_episodes = 100_000\n",
    "start_epsilon = 1.0\n",
    "epsilon_decay = start_epsilon / (n_episodes / 2)  # reduce the exploration over time\n",
    "final_epsilon = 0.1\n",
    "\n",
    "agent = BlackjackAgent(\n",
    "    learning_rate=learning_rate,\n",
    "    initial_epsilon=start_epsilon,\n",
    "    epsilon_decay=epsilon_decay,\n",
    "    final_epsilon=final_epsilon,\n",
    ")"
   ]
  },
  {
   "cell_type": "code",
   "execution_count": 16,
   "id": "be843b90-cd32-4366-8262-b39e8c170944",
   "metadata": {
    "tags": []
   },
   "outputs": [
    {
     "ename": "NameError",
     "evalue": "name 'dicount_factor' is not defined",
     "output_type": "error",
     "traceback": [
      "\u001b[0;31m---------------------------------------------------------------------------\u001b[0m",
      "\u001b[0;31mNameError\u001b[0m                                 Traceback (most recent call last)",
      "Cell \u001b[0;32mIn[16], line 8\u001b[0m\n\u001b[1;32m      5\u001b[0m epsilon_decay \u001b[38;5;241m=\u001b[39m start_epsilon \u001b[38;5;241m/\u001b[39m (n_episodes \u001b[38;5;241m/\u001b[39m \u001b[38;5;241m2\u001b[39m)  \u001b[38;5;66;03m# reduce the exploration over time\u001b[39;00m\n\u001b[1;32m      6\u001b[0m final_epsilon \u001b[38;5;241m=\u001b[39m \u001b[38;5;241m0.1\u001b[39m\n\u001b[0;32m----> 8\u001b[0m agent \u001b[38;5;241m=\u001b[39m BlackjackAgent(\n\u001b[1;32m      9\u001b[0m     learning_rate\u001b[38;5;241m=\u001b[39mlearning_rate,\n\u001b[1;32m     10\u001b[0m     initial_epsilon\u001b[38;5;241m=\u001b[39mstart_epsilon,\n\u001b[1;32m     11\u001b[0m     epsilon_decay\u001b[38;5;241m=\u001b[39mepsilon_decay,\n\u001b[1;32m     12\u001b[0m     final_epsilon\u001b[38;5;241m=\u001b[39mfinal_epsilon)\n",
      "Cell \u001b[0;32mIn[15], line 17\u001b[0m, in \u001b[0;36mBlackjackAgent.__init__\u001b[0;34m(self, learning_rate, initial_epsilon, epsilon_decay, final_epsilon, discount_factor)\u001b[0m\n\u001b[1;32m     15\u001b[0m \u001b[38;5;28mself\u001b[39m\u001b[38;5;241m.\u001b[39mq_values \u001b[38;5;241m=\u001b[39m (\u001b[38;5;28;01mlambda\u001b[39;00m:np\u001b[38;5;241m.\u001b[39mzeroes(env\u001b[38;5;241m.\u001b[39maction_space\u001b[38;5;241m.\u001b[39mn))\n\u001b[1;32m     16\u001b[0m \u001b[38;5;28mself\u001b[39m\u001b[38;5;241m.\u001b[39mlr\u001b[38;5;241m=\u001b[39m learning_rate\n\u001b[0;32m---> 17\u001b[0m \u001b[38;5;28mself\u001b[39m\u001b[38;5;241m.\u001b[39mdiscount_factor\u001b[38;5;241m=\u001b[39mdicount_factor\n\u001b[1;32m     18\u001b[0m \u001b[38;5;28mself\u001b[39m\u001b[38;5;241m.\u001b[39mepsilon \u001b[38;5;241m=\u001b[39m initial_epsilon\n\u001b[1;32m     19\u001b[0m \u001b[38;5;28mself\u001b[39m\u001b[38;5;241m.\u001b[39mepsilon_decay \u001b[38;5;241m=\u001b[39m epsilon_decay\n",
      "\u001b[0;31mNameError\u001b[0m: name 'dicount_factor' is not defined"
     ]
    }
   ],
   "source": [
    "# hyperparameters\n",
    "learning_rate = 0.01\n",
    "n_episodes = 100_000\n",
    "start_epsilon = 1.0\n",
    "epsilon_decay = start_epsilon / (n_episodes / 2)  # reduce the exploration over time\n",
    "final_epsilon = 0.1\n",
    "\n",
    "agent = BlackjackAgent(\n",
    "    learning_rate=learning_rate,\n",
    "    initial_epsilon=start_epsilon,\n",
    "    epsilon_decay=epsilon_decay,\n",
    "    final_epsilon=final_epsilon)"
   ]
  },
  {
   "cell_type": "code",
   "execution_count": null,
   "id": "be2b86e0-cd20-4759-a134-ccbcf47fed21",
   "metadata": {},
   "outputs": [],
   "source": []
  }
 ],
 "metadata": {
  "kernelspec": {
   "display_name": "Python 3 (ipykernel)",
   "language": "python",
   "name": "python3"
  },
  "language_info": {
   "codemirror_mode": {
    "name": "ipython",
    "version": 3
   },
   "file_extension": ".py",
   "mimetype": "text/x-python",
   "name": "python",
   "nbconvert_exporter": "python",
   "pygments_lexer": "ipython3",
   "version": "3.11.5"
  }
 },
 "nbformat": 4,
 "nbformat_minor": 5
}
