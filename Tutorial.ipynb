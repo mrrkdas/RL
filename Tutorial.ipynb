{
 "cells": [
  {
   "cell_type": "markdown",
   "id": "6848da56-09d9-4a84-80bf-bdcdd511f6fb",
   "metadata": {},
   "source": [
    "# Environment Basics"
   ]
  },
  {
   "cell_type": "code",
   "execution_count": 1,
   "id": "8523ffdf-a150-431c-84e7-0bca704a07b4",
   "metadata": {
    "tags": []
   },
   "outputs": [
    {
     "name": "stdout",
     "output_type": "stream",
     "text": [
      "Collecting gymnasium==0.27.0\n",
      "  Downloading gymnasium-0.27.0-py3-none-any.whl (879 kB)\n",
      "\u001b[2K     \u001b[90m━━━━━━━━━━━━━━━━━━━━━━━━━━━━━━━━━━━━━━\u001b[0m \u001b[32m879.1/879.1 kB\u001b[0m \u001b[31m11.1 MB/s\u001b[0m eta \u001b[36m0:00:00\u001b[0m00:01\u001b[0m00:01\u001b[0m\n",
      "\u001b[?25hRequirement already satisfied: numpy>=1.21.0 in /Users/helloworld/anaconda3/lib/python3.11/site-packages (from gymnasium==0.27.0) (1.24.3)\n",
      "Collecting jax-jumpy>=0.2.0 (from gymnasium==0.27.0)\n",
      "  Downloading jax_jumpy-1.0.0-py3-none-any.whl (20 kB)\n",
      "Requirement already satisfied: cloudpickle>=1.2.0 in /Users/helloworld/anaconda3/lib/python3.11/site-packages (from gymnasium==0.27.0) (2.2.1)\n",
      "Requirement already satisfied: typing-extensions>=4.3.0 in /Users/helloworld/anaconda3/lib/python3.11/site-packages (from gymnasium==0.27.0) (4.7.1)\n",
      "Collecting gymnasium-notices>=0.0.1 (from gymnasium==0.27.0)\n",
      "  Downloading gymnasium_notices-0.0.1-py3-none-any.whl (2.8 kB)\n",
      "Collecting shimmy<1.0,>=0.1.0 (from gymnasium==0.27.0)\n",
      "  Downloading Shimmy-0.2.1-py3-none-any.whl (25 kB)\n",
      "Installing collected packages: gymnasium-notices, jax-jumpy, shimmy, gymnasium\n",
      "Successfully installed gymnasium-0.27.0 gymnasium-notices-0.0.1 jax-jumpy-1.0.0 shimmy-0.2.1\n",
      "Requirement already satisfied: tqdm in /Users/helloworld/anaconda3/lib/python3.11/site-packages (4.65.0)\n"
     ]
    }
   ],
   "source": [
    "!pip install gymnasium==0.27.0\n",
    "!pip install tqdm"
   ]
  },
  {
   "cell_type": "code",
   "execution_count": 4,
   "id": "1d79b052-db1a-420c-b678-da43cf8d040a",
   "metadata": {
    "tags": []
   },
   "outputs": [],
   "source": [
    "import gymnasium as gym\n",
    "import seaborn as sns\n",
    "from tqdm import tqdm"
   ]
  },
  {
   "cell_type": "code",
   "execution_count": 5,
   "id": "2ee0a929-18e8-4721-aa83-7698adac173a",
   "metadata": {
    "tags": []
   },
   "outputs": [],
   "source": [
    "env = gym.make(\"Blackjack-v1\", sab=True, render_mode=\"rgb_array\")"
   ]
  },
  {
   "cell_type": "markdown",
   "id": "36c76e9e-5cda-48bc-81bd-03f1b66849cb",
   "metadata": {},
   "source": [
    "### Observing the environment"
   ]
  },
  {
   "cell_type": "code",
   "execution_count": 6,
   "id": "ebfa46f0-b599-46f1-b3ca-c1c4ed0ce560",
   "metadata": {
    "tags": []
   },
   "outputs": [],
   "source": [
    "# Resets the environment to get the first observation\n",
    "done = False\n",
    "observation, info = env.reset()\n",
    "\n",
    "#observation = (16, 9, False)\n",
    "\n",
    "\n",
    "#observation consistes of tuple with 3 values\n",
    "#1. The players current sum\n",
    "#2. Values of the dealers face-up card\n",
    "#3. Boolean whether the player holds a usable ace (it is usuable if it counts as 11 without busting)"
   ]
  },
  {
   "cell_type": "code",
   "execution_count": null,
   "id": "1e36fa0b-1c4a-48e5-9b93-30c661407eb0",
   "metadata": {},
   "outputs": [],
   "source": [
    "#sample a random action  \n",
    "action = env.action_space.sample()\n",
    "\n",
    "#execute the actions in our environment and receiece info after taking the steo\n",
    "observation, reward, terminated,truncated, info = env.step(action)\n",
    "\n",
    "#observation=(24,10,False)\n",
    "#reward=-1.0\n",
    "#terminated=True\n",
    "#truncated=False\n",
    "#info={}\n"
   ]
  },
  {
   "cell_type": "code",
   "execution_count": null,
   "id": "9a6a824b-af3a-4342-b68b-3385222b802c",
   "metadata": {},
   "outputs": [],
   "source": []
  }
 ],
 "metadata": {
  "kernelspec": {
   "display_name": "Python 3 (ipykernel)",
   "language": "python",
   "name": "python3"
  },
  "language_info": {
   "codemirror_mode": {
    "name": "ipython",
    "version": 3
   },
   "file_extension": ".py",
   "mimetype": "text/x-python",
   "name": "python",
   "nbconvert_exporter": "python",
   "pygments_lexer": "ipython3",
   "version": "3.11.5"
  }
 },
 "nbformat": 4,
 "nbformat_minor": 5
}
