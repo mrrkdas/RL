{
 "cells": [
  {
   "cell_type": "markdown",
   "id": "6848da56-09d9-4a84-80bf-bdcdd511f6fb",
   "metadata": {},
   "source": [
    "# Environment Basics"
   ]
  },
  {
   "cell_type": "code",
   "execution_count": 1,
   "id": "8523ffdf-a150-431c-84e7-0bca704a07b4",
   "metadata": {
    "tags": []
   },
   "outputs": [
    {
     "name": "stdout",
     "output_type": "stream",
     "text": [
      "Requirement already satisfied: gymnasium==0.27.0 in /Users/helloworld/anaconda3/lib/python3.11/site-packages (0.27.0)\n",
      "Requirement already satisfied: numpy>=1.21.0 in /Users/helloworld/anaconda3/lib/python3.11/site-packages (from gymnasium==0.27.0) (1.24.3)\n",
      "Requirement already satisfied: jax-jumpy>=0.2.0 in /Users/helloworld/anaconda3/lib/python3.11/site-packages (from gymnasium==0.27.0) (1.0.0)\n",
      "Requirement already satisfied: cloudpickle>=1.2.0 in /Users/helloworld/anaconda3/lib/python3.11/site-packages (from gymnasium==0.27.0) (2.2.1)\n",
      "Requirement already satisfied: typing-extensions>=4.3.0 in /Users/helloworld/anaconda3/lib/python3.11/site-packages (from gymnasium==0.27.0) (4.7.1)\n",
      "Requirement already satisfied: gymnasium-notices>=0.0.1 in /Users/helloworld/anaconda3/lib/python3.11/site-packages (from gymnasium==0.27.0) (0.0.1)\n",
      "Requirement already satisfied: shimmy<1.0,>=0.1.0 in /Users/helloworld/anaconda3/lib/python3.11/site-packages (from gymnasium==0.27.0) (0.2.1)\n",
      "Requirement already satisfied: tqdm in /Users/helloworld/anaconda3/lib/python3.11/site-packages (4.65.0)\n"
     ]
    }
   ],
   "source": [
    "!pip install gymnasium==0.27.0\n",
    "!pip install tqdm"
   ]
  },
  {
   "cell_type": "code",
   "execution_count": 2,
   "id": "1d79b052-db1a-420c-b678-da43cf8d040a",
   "metadata": {
    "tags": []
   },
   "outputs": [],
   "source": [
    "import gymnasium as gym\n",
    "import seaborn as sns\n",
    "from tqdm import tqdm\n",
    "import numpy as np"
   ]
  },
  {
   "cell_type": "code",
   "execution_count": 12,
   "id": "2ee0a929-18e8-4721-aa83-7698adac173a",
   "metadata": {
    "tags": []
   },
   "outputs": [],
   "source": [
    "env = gym.make(\"Blackjack-v1\", sab=True, render_mode=\"rgb_array\")"
   ]
  },
  {
   "cell_type": "markdown",
   "id": "36c76e9e-5cda-48bc-81bd-03f1b66849cb",
   "metadata": {},
   "source": [
    "### Observing the environment"
   ]
  },
  {
   "cell_type": "code",
   "execution_count": 13,
   "id": "ebfa46f0-b599-46f1-b3ca-c1c4ed0ce560",
   "metadata": {
    "tags": []
   },
   "outputs": [],
   "source": [
    "# Resets the environment to get the first observation\n",
    "done = False\n",
    "observation, info = env.reset()\n",
    "\n",
    "#observation = (16, 9, False)\n",
    "\n",
    "\n",
    "#observation consistes of tuple with 3 values\n",
    "#1. The players current sum\n",
    "#2. Values of the dealers face-up card\n",
    "#3. Boolean whether the player holds a usable ace (it is usuable if it counts as 11 without busting)"
   ]
  },
  {
   "cell_type": "code",
   "execution_count": 14,
   "id": "1e36fa0b-1c4a-48e5-9b93-30c661407eb0",
   "metadata": {
    "tags": []
   },
   "outputs": [],
   "source": [
    "#sample a random action  \n",
    "action = env.action_space.sample()\n",
    "\n",
    "#execute the actions in our environment and receiece info after taking the steo\n",
    "observation, reward, terminated,truncated, info = env.step(action)\n",
    "\n",
    "#observation=(24,10,False)\n",
    "#reward=-1.0\n",
    "#terminated=True\n",
    "#truncated=False\n",
    "#info={}\n"
   ]
  },
  {
   "cell_type": "markdown",
   "id": "4912ac47-28d2-4b42-bac7-e2b912559f90",
   "metadata": {},
   "source": [
    "# Epsilon-Greedy Strategy"
   ]
  },
  {
   "cell_type": "code",
   "execution_count": 15,
   "id": "8012cb56-efe0-4ee0-8d87-14543258c4ea",
   "metadata": {
    "tags": []
   },
   "outputs": [],
   "source": [
    "class BlackjackAgent:\n",
    "    def __init__(\n",
    "        self,\n",
    "        learning_rate:float,\n",
    "        initial_epsilon:float,\n",
    "        epsilon_decay:float,\n",
    "        final_epsilon:float,\n",
    "        discount_factor:float = 0.95\n",
    "    ):\n",
    "        \"\"\"\n",
    "        Initialize a RL agent with empty dictionary of state-action value (q_values), a learning rate and an epsilon\n",
    "\n",
    "        discount_factor: The discount factor for computing the Q-value\n",
    "        \"\"\"\n",
    "        self.q_values = (lambda:np.zeroes(env.action_space.n))\n",
    "        self.lr= learning_rate\n",
    "        self.discount_factor=dicount_factor\n",
    "        self.epsilon = initial_epsilon\n",
    "        self.epsilon_decay = epsilon_decay\n",
    "        \n",
    "        self.training_error = []\n",
    "        \n",
    "    def get_action(self, obs: tuple[int, int, bool]) -> int:\n",
    "        \"\"\"\n",
    "        Returns the best action with probability (1 - epsilon)\n",
    "        otherwise a random action with probability epsilon to ensure exploration.\n",
    "        \"\"\"\n",
    "        if np.random.random() < self.epsilon:\n",
    "            return env.action_space.sample()\n",
    "        else:\n",
    "            return int(np.argmax(self.q_values[obs]))\n",
    "                       \n",
    "    def update(\n",
    "        self,\n",
    "        obs: tuple[int, int, bool],\n",
    "        action: int,\n",
    "        reward: float,\n",
    "        terminated: bool,\n",
    "        next_obs: tuple[int, int, bool],\n",
    "    ):\n",
    "        \"\"\"Updates the Q-value of an action.\"\"\"\n",
    "        future_q_value = (not terminated) * np.max(self.q_values[next_obs])\n",
    "        temporal_difference = (reward + self.discount_factor*future_q_value - self.q_values[obs][action])\n",
    "                       \n",
    "        self.q_values[obs][action] = (self.q_values[obs][action] + self.lr*temporal_difference)\n",
    "        self.training_error.append(temporal_difference)\n",
    "                       \n",
    "    def decay_epsilon(self):\n",
    "        self.epsilon = max(self.final_epsilon, self.epsilon-epsilon_decay)\n",
    "        "
   ]
  },
  {
   "cell_type": "code",
   "execution_count": 16,
   "id": "75627bb3-b4dc-4b38-a2f6-a6dfea4dd8c2",
   "metadata": {
    "tags": []
   },
   "outputs": [],
   "source": [
    "class BlackjackAgent:\n",
    "    def __init__(\n",
    "        self,\n",
    "        learning_rate: float,\n",
    "        initial_epsilon: float,\n",
    "        epsilon_decay: float,\n",
    "        final_epsilon: float,\n",
    "        discount_factor: float = 0.95,\n",
    "    ):\n",
    "        \"\"\"Initialize a Reinforcement Learning agent with an empty dictionary\n",
    "        of state-action values (q_values), a learning rate and an epsilon.\n",
    "\n",
    "        Args:\n",
    "            learning_rate: The learning rate\n",
    "            initial_epsilon: The initial epsilon value\n",
    "            epsilon_decay: The decay for epsilon\n",
    "            final_epsilon: The final epsilon value\n",
    "            discount_factor: The discount factor for computing the Q-value\n",
    "        \"\"\"\n",
    "        self.q_values = (lambda: np.zeros(env.action_space.n))\n",
    "\n",
    "        self.lr = learning_rate\n",
    "        self.discount_factor = discount_factor\n",
    "\n",
    "        self.epsilon = initial_epsilon\n",
    "        self.epsilon_decay = epsilon_decay\n",
    "        self.final_epsilon = final_epsilon\n",
    "\n",
    "        self.training_error = []\n",
    "\n",
    "    def get_action(self, obs: tuple[int, int, bool]) -> int:\n",
    "        \"\"\"\n",
    "        Returns the best action with probability (1 - epsilon)\n",
    "        otherwise a random action with probability epsilon to ensure exploration.\n",
    "        \"\"\"\n",
    "        # with probability epsilon return a random action to explore the environment\n",
    "        if np.random.random() < self.epsilon:\n",
    "            return env.action_space.sample()\n",
    "\n",
    "        # with probability (1 - epsilon) act greedily (exploit)\n",
    "        else:\n",
    "            return int(np.argmax(self.q_values[obs]))\n",
    "\n",
    "    def update(\n",
    "        self,\n",
    "        obs: tuple[int, int, bool],\n",
    "        action: int,\n",
    "        reward: float,\n",
    "        terminated: bool,\n",
    "        next_obs: tuple[int, int, bool],\n",
    "    ):\n",
    "        \"\"\"Updates the Q-value of an action.\"\"\"\n",
    "        future_q_value = (not terminated) * np.max(self.q_values[next_obs])\n",
    "        temporal_difference = (\n",
    "            reward + self.discount_factor * future_q_value - self.q_values[obs][action]\n",
    "        )\n",
    "\n",
    "        self.q_values[obs][action] = (\n",
    "            self.q_values[obs][action] + self.lr * temporal_difference\n",
    "        )\n",
    "        self.training_error.append(temporal_difference)\n",
    "\n",
    "    def decay_epsilon(self):\n",
    "        self.epsilon = max(self.final_epsilon, self.epsilon - epsilon_decay)"
   ]
  },
  {
   "cell_type": "code",
   "execution_count": 17,
   "id": "207086bc-ce9e-46fb-9182-8f05d5f1fcca",
   "metadata": {
    "tags": []
   },
   "outputs": [],
   "source": [
    "# hyperparameters\n",
    "learning_rate = 0.01\n",
    "n_episodes = 100_000\n",
    "start_epsilon = 1.0\n",
    "epsilon_decay = start_epsilon / (n_episodes / 2)  # reduce the exploration over time\n",
    "final_epsilon = 0.1\n",
    "\n",
    "agent = BlackjackAgent(\n",
    "    learning_rate=learning_rate,\n",
    "    initial_epsilon=start_epsilon,\n",
    "    epsilon_decay=epsilon_decay,\n",
    "    final_epsilon=final_epsilon,\n",
    ")"
   ]
  },
  {
   "cell_type": "code",
   "execution_count": 19,
   "id": "2f321bfe-943e-4f31-8ce8-0aa060869e7d",
   "metadata": {
    "tags": []
   },
   "outputs": [],
   "source": [
    "from collections import deque\n",
    "from gym.wrappers import RecordEpisodeStatistics"
   ]
  },
  {
   "cell_type": "code",
   "execution_count": 20,
   "id": "d60f0bad-36ec-4952-8e9c-952b0d7cc1f0",
   "metadata": {
    "tags": []
   },
   "outputs": [
    {
     "name": "stderr",
     "output_type": "stream",
     "text": [
      "  0%|          | 0/100000 [00:00<?, ?it/s]\n"
     ]
    },
    {
     "ename": "ValueError",
     "evalue": "Attempted to add episode stats when they already exist",
     "output_type": "error",
     "traceback": [
      "\u001b[0;31m---------------------------------------------------------------------------\u001b[0m",
      "\u001b[0;31mValueError\u001b[0m                                Traceback (most recent call last)",
      "Cell \u001b[0;32mIn[20], line 9\u001b[0m\n\u001b[1;32m      7\u001b[0m \u001b[38;5;28;01mwhile\u001b[39;00m \u001b[38;5;129;01mnot\u001b[39;00m done:\n\u001b[1;32m      8\u001b[0m     action \u001b[38;5;241m=\u001b[39m agent\u001b[38;5;241m.\u001b[39mget_action(obs)\n\u001b[0;32m----> 9\u001b[0m     next_obs, reward, terminated, truncated, info \u001b[38;5;241m=\u001b[39m env\u001b[38;5;241m.\u001b[39mstep(action)\n\u001b[1;32m     11\u001b[0m     \u001b[38;5;66;03m# update the agent\u001b[39;00m\n\u001b[1;32m     12\u001b[0m     agent_\u001b[38;5;241m.\u001b[39mupdate(obs, action, reward, terminated, next_obs)\n",
      "File \u001b[0;32m~/anaconda3/lib/python3.11/site-packages/gymnasium/wrappers/record_episode_statistics.py:95\u001b[0m, in \u001b[0;36mRecordEpisodeStatistics.step\u001b[0;34m(self, action)\u001b[0m\n\u001b[1;32m     93\u001b[0m \u001b[38;5;28;01mif\u001b[39;00m num_dones:\n\u001b[1;32m     94\u001b[0m     \u001b[38;5;28;01mif\u001b[39;00m \u001b[38;5;124m\"\u001b[39m\u001b[38;5;124mepisode\u001b[39m\u001b[38;5;124m\"\u001b[39m \u001b[38;5;129;01min\u001b[39;00m infos \u001b[38;5;129;01mor\u001b[39;00m \u001b[38;5;124m\"\u001b[39m\u001b[38;5;124m_episode\u001b[39m\u001b[38;5;124m\"\u001b[39m \u001b[38;5;129;01min\u001b[39;00m infos:\n\u001b[0;32m---> 95\u001b[0m         \u001b[38;5;28;01mraise\u001b[39;00m \u001b[38;5;167;01mValueError\u001b[39;00m(\n\u001b[1;32m     96\u001b[0m             \u001b[38;5;124m\"\u001b[39m\u001b[38;5;124mAttempted to add episode stats when they already exist\u001b[39m\u001b[38;5;124m\"\u001b[39m\n\u001b[1;32m     97\u001b[0m         )\n\u001b[1;32m     98\u001b[0m     \u001b[38;5;28;01melse\u001b[39;00m:\n\u001b[1;32m     99\u001b[0m         infos[\u001b[38;5;124m\"\u001b[39m\u001b[38;5;124mepisode\u001b[39m\u001b[38;5;124m\"\u001b[39m] \u001b[38;5;241m=\u001b[39m {\n\u001b[1;32m    100\u001b[0m             \u001b[38;5;124m\"\u001b[39m\u001b[38;5;124mr\u001b[39m\u001b[38;5;124m\"\u001b[39m: np\u001b[38;5;241m.\u001b[39mwhere(dones, \u001b[38;5;28mself\u001b[39m\u001b[38;5;241m.\u001b[39mepisode_returns, \u001b[38;5;241m0.0\u001b[39m),\n\u001b[1;32m    101\u001b[0m             \u001b[38;5;124m\"\u001b[39m\u001b[38;5;124ml\u001b[39m\u001b[38;5;124m\"\u001b[39m: np\u001b[38;5;241m.\u001b[39mwhere(dones, \u001b[38;5;28mself\u001b[39m\u001b[38;5;241m.\u001b[39mepisode_lengths, \u001b[38;5;241m0\u001b[39m),\n\u001b[0;32m   (...)\u001b[0m\n\u001b[1;32m    106\u001b[0m             ),\n\u001b[1;32m    107\u001b[0m         }\n",
      "\u001b[0;31mValueError\u001b[0m: Attempted to add episode stats when they already exist"
     ]
    }
   ],
   "source": [
    "env = gym.wrappers.RecordEpisodeStatistics(env, deque_size=n_episodes)\n",
    "for episode in tqdm(range(n_episodes)):\n",
    "    obs, info = env.reset()\n",
    "    done = False\n",
    "\n",
    "    # play one episode\n",
    "    while not done:\n",
    "        action = agent.get_action(obs)\n",
    "        next_obs, reward, terminated, truncated, info = env.step(action)\n",
    "\n",
    "        # update the agent\n",
    "        agent_.update(obs, action, reward, terminated, next_obs)\n",
    "\n",
    "        # update if the environment is done and the current obs\n",
    "        done = terminated or truncated\n",
    "        obs = next_obs\n",
    "\n",
    "    agent.decay_epsilon()"
   ]
  },
  {
   "cell_type": "code",
   "execution_count": null,
   "id": "e72bf8f4-ce2a-4dfe-82bf-7c8715bf95a9",
   "metadata": {},
   "outputs": [],
   "source": []
  },
  {
   "cell_type": "code",
   "execution_count": null,
   "id": "34bebe14-e3ad-4f20-b0a9-c5386bcb7248",
   "metadata": {},
   "outputs": [],
   "source": []
  }
 ],
 "metadata": {
  "kernelspec": {
   "display_name": "Python 3 (ipykernel)",
   "language": "python",
   "name": "python3"
  },
  "language_info": {
   "codemirror_mode": {
    "name": "ipython",
    "version": 3
   },
   "file_extension": ".py",
   "mimetype": "text/x-python",
   "name": "python",
   "nbconvert_exporter": "python",
   "pygments_lexer": "ipython3",
   "version": "3.11.0"
  }
 },
 "nbformat": 4,
 "nbformat_minor": 5
}
